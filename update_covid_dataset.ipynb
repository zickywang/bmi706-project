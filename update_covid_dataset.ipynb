{
 "cells": [
  {
   "cell_type": "code",
   "execution_count": 3,
   "metadata": {},
   "outputs": [
    {
     "name": "stdout",
     "output_type": "stream",
     "text": [
      "Collecting geopy\n",
      "  Using cached https://files.pythonhosted.org/packages/e1/e1/45f25e3d3acf26782888f847de7c958a2807a039210fb1016cc3fb9555c4/geopy-2.2.0-py3-none-any.whl\n",
      "Collecting geographiclib<2,>=1.49 (from geopy)\n",
      "  Using cached https://files.pythonhosted.org/packages/df/60/d1d4c4944f9726228faa80fbe2206c8ddfd9757791b2de2facb8818c5d74/geographiclib-1.52-py3-none-any.whl\n",
      "Installing collected packages: geographiclib, geopy\n",
      "Successfully installed geographiclib-1.52 geopy-2.2.0\n"
     ]
    }
   ],
   "source": [
    "import pandas as pd\n",
    "import numpy as np\n",
    "!pip install geopy\n",
    "from geopy.exc import GeocoderTimedOut\n",
    "from geopy.geocoders import Nominatim"
   ]
  },
  {
   "cell_type": "code",
   "execution_count": 6,
   "metadata": {},
   "outputs": [],
   "source": [
    "#################################################\n",
    "# Modify df to add longitude and latitude\n",
    "# declare an empty list to store latitude and longitude of values country column\n",
    "longitude = dict()\n",
    "latitude = dict()"
   ]
  },
  {
   "cell_type": "code",
   "execution_count": 7,
   "metadata": {},
   "outputs": [],
   "source": [
    "# function to find the coordinate of a given country \n",
    "def findGeocode(country):\n",
    "\n",
    "    # try and catch is used to overcome\n",
    "    # the exception thrown by geolocator\n",
    "    # using geocodertimedout  \n",
    "    try:\n",
    "\n",
    "        # Specify the user_agent as your\n",
    "        # app name it should not be none\n",
    "        geolocator = Nominatim(user_agent='covid_app')\n",
    "          \n",
    "        return geolocator.geocode(country)\n",
    "      \n",
    "    except GeocoderTimedOut:\n",
    "          \n",
    "        return findGeocode(country) "
   ]
  },
  {
   "cell_type": "code",
   "execution_count": 8,
   "metadata": {},
   "outputs": [],
   "source": [
    "df = pd.read_csv(\n",
    "        \"https://covid.ourworldindata.org/data/owid-covid-data.csv\")"
   ]
  },
  {
   "cell_type": "code",
   "execution_count": 10,
   "metadata": {},
   "outputs": [],
   "source": [
    "countries = df[\"location\"].unique()\n",
    "for i in (countries):\n",
    "      \n",
    "    if findGeocode(i) != None:\n",
    "           \n",
    "        loc = findGeocode(i)\n",
    "          \n",
    "        # coordinates returned from function is stored into two separate list\n",
    "        latitude[i] = loc.latitude\n",
    "        longitude[i] = loc.longitude\n",
    "\n",
    "    # if coordinate for a country not found, insert \"NaN\" indicating missing value \n",
    "    else:\n",
    "        latitude[i] = np.nan\n",
    "        longitude[i] = np.nan"
   ]
  },
  {
   "cell_type": "code",
   "execution_count": 12,
   "metadata": {},
   "outputs": [],
   "source": [
    "# now add this column to dataframe\n",
    "longitude_list = []\n",
    "latitude_list = []\n",
    "for i in df['location']:\n",
    "    longitude_list.append(longitude[i])\n",
    "    latitude_list.append(latitude[i])\n",
    "\n",
    "df[\"Longitude\"] = longitude_list\n",
    "df[\"Latitude\"] = latitude_list"
   ]
  },
  {
   "cell_type": "code",
   "execution_count": 18,
   "metadata": {},
   "outputs": [],
   "source": [
    "df.to_csv('covid_dataset.csv', sep=',', index=False)"
   ]
  }
 ],
 "metadata": {
  "kernelspec": {
   "display_name": "Python 3",
   "language": "python",
   "name": "python3"
  },
  "language_info": {
   "codemirror_mode": {
    "name": "ipython",
    "version": 3
   },
   "file_extension": ".py",
   "mimetype": "text/x-python",
   "name": "python",
   "nbconvert_exporter": "python",
   "pygments_lexer": "ipython3",
   "version": "3.7.3"
  }
 },
 "nbformat": 4,
 "nbformat_minor": 2
}
